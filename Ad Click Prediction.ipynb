{
 "cells": [
  {
   "cell_type": "markdown",
   "id": "3e19e609",
   "metadata": {},
   "source": [
    "# Ad Click Prediction"
   ]
  },
  {
   "cell_type": "markdown",
   "id": "3b864003",
   "metadata": {},
   "source": [
    "Given a dataset containing informations about viewers of a website, we are demanded to construct a model which can predict whether a viewer will click on an ad. The raw dataset is shown below."
   ]
  },
  {
   "cell_type": "code",
   "execution_count": 1,
   "id": "6254cb59",
   "metadata": {},
   "outputs": [
    {
     "data": {
      "text/html": [
       "<div>\n",
       "<style scoped>\n",
       "    .dataframe tbody tr th:only-of-type {\n",
       "        vertical-align: middle;\n",
       "    }\n",
       "\n",
       "    .dataframe tbody tr th {\n",
       "        vertical-align: top;\n",
       "    }\n",
       "\n",
       "    .dataframe thead th {\n",
       "        text-align: right;\n",
       "    }\n",
       "</style>\n",
       "<table border=\"1\" class=\"dataframe\">\n",
       "  <thead>\n",
       "    <tr style=\"text-align: right;\">\n",
       "      <th></th>\n",
       "      <th>Daily Time Spent on Site</th>\n",
       "      <th>Age</th>\n",
       "      <th>Area Income</th>\n",
       "      <th>Daily Internet Usage</th>\n",
       "      <th>Ad Topic Line</th>\n",
       "      <th>City</th>\n",
       "      <th>Male</th>\n",
       "      <th>Country</th>\n",
       "      <th>Timestamp</th>\n",
       "      <th>Clicked on Ad</th>\n",
       "    </tr>\n",
       "  </thead>\n",
       "  <tbody>\n",
       "    <tr>\n",
       "      <th>0</th>\n",
       "      <td>68.95</td>\n",
       "      <td>35</td>\n",
       "      <td>61833.90</td>\n",
       "      <td>256.09</td>\n",
       "      <td>Cloned 5thgeneration orchestration</td>\n",
       "      <td>Wrightburgh</td>\n",
       "      <td>0.0</td>\n",
       "      <td>Tunisia</td>\n",
       "      <td>3/27/2016 0:53</td>\n",
       "      <td>0</td>\n",
       "    </tr>\n",
       "    <tr>\n",
       "      <th>1</th>\n",
       "      <td>80.23</td>\n",
       "      <td>31</td>\n",
       "      <td>68441.85</td>\n",
       "      <td>193.77</td>\n",
       "      <td>Monitored national standardization</td>\n",
       "      <td>West Jodi</td>\n",
       "      <td>1.0</td>\n",
       "      <td>Nauru</td>\n",
       "      <td>4/4/2016 1:39</td>\n",
       "      <td>0</td>\n",
       "    </tr>\n",
       "    <tr>\n",
       "      <th>2</th>\n",
       "      <td>69.47</td>\n",
       "      <td>26</td>\n",
       "      <td>59785.94</td>\n",
       "      <td>236.50</td>\n",
       "      <td>Organic bottom-line service-desk</td>\n",
       "      <td>Davidton</td>\n",
       "      <td>0.0</td>\n",
       "      <td>San Marino</td>\n",
       "      <td>3/13/2016 20:35</td>\n",
       "      <td>0</td>\n",
       "    </tr>\n",
       "    <tr>\n",
       "      <th>3</th>\n",
       "      <td>74.15</td>\n",
       "      <td>29</td>\n",
       "      <td>54806.18</td>\n",
       "      <td>245.89</td>\n",
       "      <td>Triple-buffered reciprocal time-frame</td>\n",
       "      <td>West Terrifurt</td>\n",
       "      <td>1.0</td>\n",
       "      <td>Italy</td>\n",
       "      <td>1/10/2016 2:31</td>\n",
       "      <td>0</td>\n",
       "    </tr>\n",
       "    <tr>\n",
       "      <th>4</th>\n",
       "      <td>68.37</td>\n",
       "      <td>35</td>\n",
       "      <td>73889.99</td>\n",
       "      <td>225.58</td>\n",
       "      <td>Robust logistical utilization</td>\n",
       "      <td>South Manuel</td>\n",
       "      <td>0.0</td>\n",
       "      <td>Iceland</td>\n",
       "      <td>6/3/2016 3:36</td>\n",
       "      <td>0</td>\n",
       "    </tr>\n",
       "    <tr>\n",
       "      <th>...</th>\n",
       "      <td>...</td>\n",
       "      <td>...</td>\n",
       "      <td>...</td>\n",
       "      <td>...</td>\n",
       "      <td>...</td>\n",
       "      <td>...</td>\n",
       "      <td>...</td>\n",
       "      <td>...</td>\n",
       "      <td>...</td>\n",
       "      <td>...</td>\n",
       "    </tr>\n",
       "    <tr>\n",
       "      <th>995</th>\n",
       "      <td>72.97</td>\n",
       "      <td>30</td>\n",
       "      <td>71384.57</td>\n",
       "      <td>208.58</td>\n",
       "      <td>Fundamental modular algorithm</td>\n",
       "      <td>Duffystad</td>\n",
       "      <td>1.0</td>\n",
       "      <td>Lebanon</td>\n",
       "      <td>2/11/2016 21:49</td>\n",
       "      <td>1</td>\n",
       "    </tr>\n",
       "    <tr>\n",
       "      <th>996</th>\n",
       "      <td>51.30</td>\n",
       "      <td>45</td>\n",
       "      <td>67782.17</td>\n",
       "      <td>134.42</td>\n",
       "      <td>Grass-roots cohesive monitoring</td>\n",
       "      <td>New Darlene</td>\n",
       "      <td>1.0</td>\n",
       "      <td>Bosnia and Herzegovina</td>\n",
       "      <td>4/22/2016 2:07</td>\n",
       "      <td>1</td>\n",
       "    </tr>\n",
       "    <tr>\n",
       "      <th>997</th>\n",
       "      <td>NaN</td>\n",
       "      <td>51</td>\n",
       "      <td>42415.72</td>\n",
       "      <td>120.37</td>\n",
       "      <td>Expanded intangible solution</td>\n",
       "      <td>South Jessica</td>\n",
       "      <td>1.0</td>\n",
       "      <td>Mongolia</td>\n",
       "      <td>2/1/2016 17:24</td>\n",
       "      <td>1</td>\n",
       "    </tr>\n",
       "    <tr>\n",
       "      <th>998</th>\n",
       "      <td>55.55</td>\n",
       "      <td>19</td>\n",
       "      <td>41920.79</td>\n",
       "      <td>187.95</td>\n",
       "      <td>Proactive bandwidth-monitored policy</td>\n",
       "      <td>West Steven</td>\n",
       "      <td>0.0</td>\n",
       "      <td>Guatemala</td>\n",
       "      <td>3/24/2016 2:35</td>\n",
       "      <td>0</td>\n",
       "    </tr>\n",
       "    <tr>\n",
       "      <th>999</th>\n",
       "      <td>45.01</td>\n",
       "      <td>26</td>\n",
       "      <td>29875.80</td>\n",
       "      <td>178.35</td>\n",
       "      <td>Virtual 5thgeneration emulation</td>\n",
       "      <td>Ronniemouth</td>\n",
       "      <td>0.0</td>\n",
       "      <td>Brazil</td>\n",
       "      <td>6/3/2016 21:43</td>\n",
       "      <td>1</td>\n",
       "    </tr>\n",
       "  </tbody>\n",
       "</table>\n",
       "<p>1000 rows × 10 columns</p>\n",
       "</div>"
      ],
      "text/plain": [
       "     Daily Time Spent on Site  Age  Area Income  Daily Internet Usage  \\\n",
       "0                       68.95   35     61833.90                256.09   \n",
       "1                       80.23   31     68441.85                193.77   \n",
       "2                       69.47   26     59785.94                236.50   \n",
       "3                       74.15   29     54806.18                245.89   \n",
       "4                       68.37   35     73889.99                225.58   \n",
       "..                        ...  ...          ...                   ...   \n",
       "995                     72.97   30     71384.57                208.58   \n",
       "996                     51.30   45     67782.17                134.42   \n",
       "997                       NaN   51     42415.72                120.37   \n",
       "998                     55.55   19     41920.79                187.95   \n",
       "999                     45.01   26     29875.80                178.35   \n",
       "\n",
       "                             Ad Topic Line            City  Male  \\\n",
       "0       Cloned 5thgeneration orchestration     Wrightburgh   0.0   \n",
       "1       Monitored national standardization       West Jodi   1.0   \n",
       "2         Organic bottom-line service-desk        Davidton   0.0   \n",
       "3    Triple-buffered reciprocal time-frame  West Terrifurt   1.0   \n",
       "4            Robust logistical utilization    South Manuel   0.0   \n",
       "..                                     ...             ...   ...   \n",
       "995          Fundamental modular algorithm       Duffystad   1.0   \n",
       "996        Grass-roots cohesive monitoring     New Darlene   1.0   \n",
       "997           Expanded intangible solution   South Jessica   1.0   \n",
       "998   Proactive bandwidth-monitored policy     West Steven   0.0   \n",
       "999        Virtual 5thgeneration emulation     Ronniemouth   0.0   \n",
       "\n",
       "                    Country        Timestamp  Clicked on Ad  \n",
       "0                   Tunisia   3/27/2016 0:53              0  \n",
       "1                     Nauru    4/4/2016 1:39              0  \n",
       "2                San Marino  3/13/2016 20:35              0  \n",
       "3                     Italy   1/10/2016 2:31              0  \n",
       "4                   Iceland    6/3/2016 3:36              0  \n",
       "..                      ...              ...            ...  \n",
       "995                 Lebanon  2/11/2016 21:49              1  \n",
       "996  Bosnia and Herzegovina   4/22/2016 2:07              1  \n",
       "997                Mongolia   2/1/2016 17:24              1  \n",
       "998               Guatemala   3/24/2016 2:35              0  \n",
       "999                  Brazil   6/3/2016 21:43              1  \n",
       "\n",
       "[1000 rows x 10 columns]"
      ]
     },
     "execution_count": 1,
     "metadata": {},
     "output_type": "execute_result"
    }
   ],
   "source": [
    "import pandas as pd\n",
    "df=pd.read_csv('Ad_Click_Data.csv')\n",
    "df"
   ]
  },
  {
   "cell_type": "markdown",
   "id": "31f217cd",
   "metadata": {},
   "source": [
    "Let us begin by droping duplicates in the dataset and then observing the features of the dataset."
   ]
  },
  {
   "cell_type": "code",
   "execution_count": 2,
   "id": "c8dab0bb",
   "metadata": {},
   "outputs": [
    {
     "name": "stdout",
     "output_type": "stream",
     "text": [
      "<class 'pandas.core.frame.DataFrame'>\n",
      "Int64Index: 1000 entries, 0 to 999\n",
      "Data columns (total 10 columns):\n",
      " #   Column                    Non-Null Count  Dtype  \n",
      "---  ------                    --------------  -----  \n",
      " 0   Daily Time Spent on Site  987 non-null    float64\n",
      " 1   Age                       1000 non-null   int64  \n",
      " 2   Area Income               987 non-null    float64\n",
      " 3   Daily Internet Usage      989 non-null    float64\n",
      " 4   Ad Topic Line             1000 non-null   object \n",
      " 5   City                      999 non-null    object \n",
      " 6   Male                      997 non-null    float64\n",
      " 7   Country                   991 non-null    object \n",
      " 8   Timestamp                 1000 non-null   object \n",
      " 9   Clicked on Ad             1000 non-null   int64  \n",
      "dtypes: float64(4), int64(2), object(4)\n",
      "memory usage: 85.9+ KB\n"
     ]
    }
   ],
   "source": [
    "df.drop_duplicates(inplace=True)\n",
    "df.info()"
   ]
  },
  {
   "cell_type": "markdown",
   "id": "441e6259",
   "metadata": {},
   "source": [
    "From the information above, it is clear that we have to convert the format of the Timestamp feature."
   ]
  },
  {
   "cell_type": "code",
   "execution_count": 3,
   "id": "d6e5e0ef",
   "metadata": {},
   "outputs": [
    {
     "name": "stdout",
     "output_type": "stream",
     "text": [
      "<class 'pandas.core.frame.DataFrame'>\n",
      "Int64Index: 1000 entries, 0 to 999\n",
      "Data columns (total 10 columns):\n",
      " #   Column                    Non-Null Count  Dtype         \n",
      "---  ------                    --------------  -----         \n",
      " 0   Daily Time Spent on Site  987 non-null    float64       \n",
      " 1   Age                       1000 non-null   int64         \n",
      " 2   Area Income               987 non-null    float64       \n",
      " 3   Daily Internet Usage      989 non-null    float64       \n",
      " 4   Ad Topic Line             1000 non-null   object        \n",
      " 5   City                      999 non-null    object        \n",
      " 6   Male                      997 non-null    float64       \n",
      " 7   Country                   991 non-null    object        \n",
      " 8   Timestamp                 1000 non-null   datetime64[ns]\n",
      " 9   Clicked on Ad             1000 non-null   int64         \n",
      "dtypes: datetime64[ns](1), float64(4), int64(2), object(3)\n",
      "memory usage: 85.9+ KB\n"
     ]
    }
   ],
   "source": [
    "from datetime import datetime\n",
    "df['Timestamp']=df['Timestamp'].apply(lambda x : datetime.strptime(x, '%m/%d/%Y %H:%M'))\n",
    "df.info()"
   ]
  },
  {
   "cell_type": "markdown",
   "id": "92c18056",
   "metadata": {},
   "source": [
    "Having finished with the Timestamp feature, now we have to check whether there are outliers in our dataset."
   ]
  },
  {
   "cell_type": "code",
   "execution_count": 4,
   "id": "033bfc49",
   "metadata": {},
   "outputs": [
    {
     "data": {
      "image/png": "[encoded data removed]",
      "text/plain": [
       "<Figure size 1440x360 with 4 Axes>"
      ]
     },
     "metadata": {
      "needs_background": "light"
     },
     "output_type": "display_data"
    }
   ],
   "source": [
    "import matplotlib.pyplot as plt\n",
    "import seaborn as sns\n",
    "plt.figure(figsize=(20,5))\n",
    "plt.subplot(1, 4, 1)\n",
    "sns.boxplot(data=df, y='Daily Time Spent on Site')\n",
    "plt.xlabel(' ')\n",
    "plt.ylabel(' ')\n",
    "plt.title('Daily Time Spent on Site')\n",
    "plt.subplot(1, 4, 2)\n",
    "sns.boxplot(data=df, y='Age')\n",
    "plt.xlabel(' ')\n",
    "plt.ylabel(' ')\n",
    "plt.title('Age')\n",
    "plt.subplot(1, 4, 3)\n",
    "sns.boxplot(data=df, y='Area Income')\n",
    "plt.xlabel(' ')\n",
    "plt.ylabel(' ')\n",
    "plt.title('Area Income')\n",
    "plt.subplot(1, 4, 4)\n",
    "sns.boxplot(data=df, y='Daily Internet Usage')\n",
    "plt.xlabel(' ')\n",
    "plt.ylabel(' ')\n",
    "plt.title('Daily Internet Usage')\n",
    "plt.show()"
   ]
  },
  {
   "cell_type": "markdown",
   "id": "01fe6f1c",
   "metadata": {},
   "source": [
    "From the figure above, it can be seen that there are outliers in the Area Income feature, thus we will drop those outliers."
   ]
  },
  {
   "cell_type": "code",
   "execution_count": 5,
   "id": "66ffb127",
   "metadata": {},
   "outputs": [
    {
     "name": "stdout",
     "output_type": "stream",
     "text": [
      "<class 'pandas.core.frame.DataFrame'>\n",
      "Int64Index: 992 entries, 0 to 999\n",
      "Data columns (total 10 columns):\n",
      " #   Column                    Non-Null Count  Dtype         \n",
      "---  ------                    --------------  -----         \n",
      " 0   Daily Time Spent on Site  979 non-null    float64       \n",
      " 1   Age                       992 non-null    int64         \n",
      " 2   Area Income               979 non-null    float64       \n",
      " 3   Daily Internet Usage      981 non-null    float64       \n",
      " 4   Ad Topic Line             992 non-null    object        \n",
      " 5   City                      991 non-null    object        \n",
      " 6   Male                      989 non-null    float64       \n",
      " 7   Country                   983 non-null    object        \n",
      " 8   Timestamp                 992 non-null    datetime64[ns]\n",
      " 9   Clicked on Ad             992 non-null    int64         \n",
      "dtypes: datetime64[ns](1), float64(4), int64(2), object(3)\n",
      "memory usage: 85.2+ KB\n"
     ]
    }
   ],
   "source": [
    "Q1=df['Area Income'].quantile(0.25)\n",
    "Q3=df['Area Income'].quantile(0.75)\n",
    "IQR=Q3-Q1\n",
    "df=df[~((df['Area Income'] < (Q1-1.5*IQR)) | (df['Area Income'] > (Q3+1.5*IQR)))]\n",
    "df.info()"
   ]
  },
  {
   "cell_type": "markdown",
   "id": "2765207d",
   "metadata": {},
   "source": [
    "Now, before handling the missing values, it is worthwhile for us to see the correlation matrix of our dataset."
   ]
  },
  {
   "cell_type": "code",
   "execution_count": 6,
   "id": "0c1934f6",
   "metadata": {},
   "outputs": [
    {
     "data": {
      "image/png": "[encoded data removed]",
      "text/plain": [
       "<Figure size 432x288 with 2 Axes>"
      ]
     },
     "metadata": {
      "needs_background": "light"
     },
     "output_type": "display_data"
    }
   ],
   "source": [
    "df2=df.copy()\n",
    "plt.figure()\n",
    "sns.heatmap(df2[['Daily Time Spent on Site','Age','Area Income','Daily Internet Usage']].corr(), annot=True,cmap='YlGnBu')\n",
    "plt.show()"
   ]
  },
  {
   "cell_type": "markdown",
   "id": "dceebaeb",
   "metadata": {},
   "source": [
    "From the correlation matrix above it can be implied that we can handle the missing values in the other features by first dividing the Age feature into several group and then use the mean value of each group to fill the missing values."
   ]
  },
  {
   "cell_type": "code",
   "execution_count": 7,
   "id": "90eac769",
   "metadata": {},
   "outputs": [],
   "source": [
    "df2['Age_Div'] = pd.qcut(df2['Age'],10)"
   ]
  },
  {
   "cell_type": "code",
   "execution_count": 8,
   "id": "360d06cb",
   "metadata": {},
   "outputs": [],
   "source": [
    "df2['Daily Time Spent on Site'] = df2.groupby(['Age_Div'])['Daily Time Spent on Site'].apply(lambda x: x.fillna(x.mean()))"
   ]
  },
  {
   "cell_type": "code",
   "execution_count": 9,
   "id": "bceca03d",
   "metadata": {},
   "outputs": [],
   "source": [
    "df2['Area Income'] = df2.groupby(['Age_Div'])['Area Income'].apply(lambda x: x.fillna(x.mean()))"
   ]
  },
  {
   "cell_type": "code",
   "execution_count": 10,
   "id": "3cf5d58b",
   "metadata": {},
   "outputs": [],
   "source": [
    "df2['Daily Internet Usage'] = df2.groupby(['Age_Div'])['Daily Internet Usage'].apply(lambda x: x.fillna(x.mean()))"
   ]
  },
  {
   "cell_type": "code",
   "execution_count": 11,
   "id": "a4488b44",
   "metadata": {},
   "outputs": [],
   "source": [
    "df2.dropna(inplace=True)"
   ]
  },
  {
   "cell_type": "markdown",
   "id": "03dc5516",
   "metadata": {},
   "source": [
    "From the Timestamp feature we can create a new feature by grouping the Timestamp into day time and night time."
   ]
  },
  {
   "cell_type": "code",
   "execution_count": 12,
   "id": "645d60b6",
   "metadata": {},
   "outputs": [],
   "source": [
    "Dawn=datetime.strptime('06:00:00','%H:%M:%S')\n",
    "Sunset=datetime.strptime('18:00:00','%H:%M:%S')\n",
    "df2['Time_Div']=df2['Timestamp'].apply(lambda x: 1 if Dawn.time()<=x.time()<Sunset.time() else 0)"
   ]
  },
  {
   "cell_type": "markdown",
   "id": "6b636c97",
   "metadata": {},
   "source": [
    "Before constructing a model, it is imperative for us to normalize our dateset."
   ]
  },
  {
   "cell_type": "code",
   "execution_count": 13,
   "id": "2b7e5b16",
   "metadata": {},
   "outputs": [],
   "source": [
    "from sklearn.preprocessing import MinMaxScaler  \n",
    "scaler = MinMaxScaler() \n",
    "scaling_column = ['Daily Time Spent on Site', 'Age', 'Area Income', 'Daily Internet Usage', 'Male',\\\n",
    "                  'Clicked on Ad', 'Time_Div']\n",
    "df2[scaling_column] = scaler.fit_transform(df2[scaling_column])"
   ]
  },
  {
   "cell_type": "markdown",
   "id": "a11fa119",
   "metadata": {},
   "source": [
    "Now we can split the label and features of our dataset and subsequently we can build a predictive model."
   ]
  },
  {
   "cell_type": "code",
   "execution_count": 14,
   "id": "9336d342",
   "metadata": {},
   "outputs": [],
   "source": [
    "X=df2.drop(['Clicked on Ad','Ad Topic Line','City','Country','Timestamp','Age_Div'],axis=1)\n",
    "y=df2['Clicked on Ad']"
   ]
  },
  {
   "cell_type": "code",
   "execution_count": 15,
   "id": "fdec4659",
   "metadata": {},
   "outputs": [],
   "source": [
    "from sklearn.model_selection import train_test_split\n",
    "X_train, X_test, y_train, y_test=train_test_split(X,y,test_size=0.2,random_state=0)"
   ]
  },
  {
   "cell_type": "code",
   "execution_count": 16,
   "id": "92e1b09b",
   "metadata": {},
   "outputs": [],
   "source": [
    "from sklearn.tree import DecisionTreeClassifier\n",
    "model=DecisionTreeClassifier()\n",
    "model=model.fit(X_train,y_train)\n",
    "y_pred=model.predict(X_test)"
   ]
  },
  {
   "cell_type": "markdown",
   "id": "12f1f5d0",
   "metadata": {},
   "source": [
    "Finally, we can evaluate the quality of our predictive model."
   ]
  },
  {
   "cell_type": "code",
   "execution_count": 17,
   "id": "e3c42ff8",
   "metadata": {},
   "outputs": [
    {
     "name": "stdout",
     "output_type": "stream",
     "text": [
      "Training Accuracy : 1.0\n",
      "Testing Accuracy : 0.9438775510204082\n"
     ]
    },
    {
     "data": {
      "image/png": "[encoded data removed]",
      "text/plain": [
       "<Figure size 432x288 with 2 Axes>"
      ]
     },
     "metadata": {
      "needs_background": "light"
     },
     "output_type": "display_data"
    }
   ],
   "source": [
    "from sklearn.metrics import confusion_matrix, classification_report\n",
    "        \n",
    "# evaluating the model\n",
    "print('Training Accuracy :', model.score(X_train,y_train))\n",
    "print('Testing Accuracy :', model.score(X_test,y_test))\n",
    "cm=confusion_matrix(y_test,y_pred)\n",
    "plt.figure()\n",
    "sns.heatmap(cm, annot=True, cmap='YlGnBu')\n",
    "plt.title('Confusion Matrix')\n",
    "plt.show()"
   ]
  },
  {
   "cell_type": "code",
   "execution_count": 18,
   "id": "c64e9cbb",
   "metadata": {},
   "outputs": [
    {
     "name": "stdout",
     "output_type": "stream",
     "text": [
      "\n",
      "Classification report:\n",
      "              precision    recall  f1-score   support\n",
      "\n",
      "         0.0       0.96      0.93      0.95       104\n",
      "         1.0       0.93      0.96      0.94        92\n",
      "\n",
      "    accuracy                           0.94       196\n",
      "   macro avg       0.94      0.94      0.94       196\n",
      "weighted avg       0.94      0.94      0.94       196\n",
      "\n"
     ]
    }
   ],
   "source": [
    "# classification report\n",
    "print('\\nClassification report:')\n",
    "cr=classification_report(y_test,y_pred)\n",
    "print(cr)"
   ]
  },
  {
   "cell_type": "markdown",
   "id": "252c3226",
   "metadata": {},
   "source": [
    "# Conclusion"
   ]
  },
  {
   "cell_type": "markdown",
   "id": "96306626",
   "metadata": {},
   "source": [
    "We have built a model to predict the possibility of a viewer to click on an ad. The predictive model built based on the DecisionTreeClassifier module provide 100% training accuracy and 94% testing accuracy."
   ]
  }
 ],
 "metadata": {
  "kernelspec": {
   "display_name": "Python 3 (ipykernel)",
   "language": "python",
   "name": "python3"
  },
  "language_info": {
   "codemirror_mode": {
    "name": "ipython",
    "version": 3
   },
   "file_extension": ".py",
   "mimetype": "text/x-python",
   "name": "python",
   "nbconvert_exporter": "python",
   "pygments_lexer": "ipython3",
   "version": "3.8.10"
  }
 },
 "nbformat": 4,
 "nbformat_minor": 5
}
